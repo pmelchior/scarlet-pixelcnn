{
 "cells": [
  {
   "cell_type": "code",
   "execution_count": 3,
   "metadata": {},
   "outputs": [],
   "source": [
    "import tensorflow as tf\n",
    "import tensorflow_probability as tfp\n",
    "import tensorflow_hub as hub \n",
    "from data import galsim\n",
    "\n",
    "import sys\n",
    "sys.path.insert(0, 'pixel-cnn/')"
   ]
  },
  {
   "cell_type": "code",
   "execution_count": 2,
   "metadata": {
    "collapsed": true
   },
   "outputs": [
    {
     "name": "stderr",
     "output_type": "stream",
     "text": [
      "/usr/lib/python3.7/importlib/_bootstrap.py:219: RuntimeWarning: numpy.ufunc size changed, may indicate binary incompatibility. Expected 216, got 192\n",
      "  return f(*args, **kwds)\n",
      "/usr/lib/python3.7/importlib/_bootstrap.py:219: ImportWarning: can't resolve package from __spec__ or __package__, falling back on __name__ and __path__\n",
      "  return f(*args, **kwds)\n",
      "/usr/lib/python3.7/importlib/_bootstrap.py:219: ImportWarning: can't resolve package from __spec__ or __package__, falling back on __name__ and __path__\n",
      "  return f(*args, **kwds)\n",
      "/usr/lib/python3.7/importlib/_bootstrap.py:219: ImportWarning: can't resolve package from __spec__ or __package__, falling back on __name__ and __path__\n",
      "  return f(*args, **kwds)\n",
      "/usr/lib/python3.7/importlib/_bootstrap.py:219: ImportWarning: can't resolve package from __spec__ or __package__, falling back on __name__ and __path__\n",
      "  return f(*args, **kwds)\n",
      "/usr/lib/python3.7/importlib/_bootstrap.py:219: ImportWarning: can't resolve package from __spec__ or __package__, falling back on __name__ and __path__\n",
      "  return f(*args, **kwds)\n",
      "/usr/lib/python3.7/importlib/_bootstrap.py:219: RuntimeWarning: numpy.ufunc size changed, may indicate binary incompatibility. Expected 216, got 192\n",
      "  return f(*args, **kwds)\n",
      "/usr/lib/python3.7/importlib/_bootstrap.py:219: ImportWarning: can't resolve package from __spec__ or __package__, falling back on __name__ and __path__\n",
      "  return f(*args, **kwds)\n",
      "/usr/lib/python3.7/importlib/_bootstrap.py:219: ImportWarning: can't resolve package from __spec__ or __package__, falling back on __name__ and __path__\n",
      "  return f(*args, **kwds)\n",
      "/usr/lib/python3.7/importlib/_bootstrap.py:219: ImportWarning: can't resolve package from __spec__ or __package__, falling back on __name__ and __path__\n",
      "  return f(*args, **kwds)\n",
      "/usr/lib/python3.7/importlib/_bootstrap.py:219: ImportWarning: can't resolve package from __spec__ or __package__, falling back on __name__ and __path__\n",
      "  return f(*args, **kwds)\n",
      "/usr/lib/python3.7/importlib/_bootstrap.py:219: ImportWarning: can't resolve package from __spec__ or __package__, falling back on __name__ and __path__\n",
      "  return f(*args, **kwds)\n",
      "/usr/lib/python3.7/importlib/_bootstrap.py:219: ImportWarning: can't resolve package from __spec__ or __package__, falling back on __name__ and __path__\n",
      "  return f(*args, **kwds)\n",
      "/usr/lib/python3.7/importlib/_bootstrap.py:219: ImportWarning: can't resolve package from __spec__ or __package__, falling back on __name__ and __path__\n",
      "  return f(*args, **kwds)\n",
      "/usr/lib/python3.7/importlib/_bootstrap.py:219: ImportWarning: can't resolve package from __spec__ or __package__, falling back on __name__ and __path__\n",
      "  return f(*args, **kwds)\n",
      "/usr/lib/python3.7/importlib/_bootstrap.py:219: ImportWarning: can't resolve package from __spec__ or __package__, falling back on __name__ and __path__\n",
      "  return f(*args, **kwds)\n",
      "/usr/lib/python3.7/importlib/_bootstrap.py:219: ImportWarning: can't resolve package from __spec__ or __package__, falling back on __name__ and __path__\n",
      "  return f(*args, **kwds)\n",
      "/usr/lib/python3.7/importlib/_bootstrap.py:219: ImportWarning: can't resolve package from __spec__ or __package__, falling back on __name__ and __path__\n",
      "  return f(*args, **kwds)\n",
      "/usr/lib/python3.7/importlib/_bootstrap.py:219: ImportWarning: can't resolve package from __spec__ or __package__, falling back on __name__ and __path__\n",
      "  return f(*args, **kwds)\n",
      "/usr/lib/python3.7/importlib/_bootstrap.py:219: ImportWarning: can't resolve package from __spec__ or __package__, falling back on __name__ and __path__\n",
      "  return f(*args, **kwds)\n",
      "/usr/lib/python3.7/importlib/_bootstrap.py:219: ImportWarning: can't resolve package from __spec__ or __package__, falling back on __name__ and __path__\n",
      "  return f(*args, **kwds)\n"
     ]
    }
   ],
   "source": [
    "data_dir='/usr/local/share/galsim/COSMOS_25.2_training_sample'\n",
    "batch_size=32\n",
    "\n",
    "# Let's build an input function for the model\n",
    "input_fn = galsim.build_input_pipeline(data_dir,\n",
    "                                        batch_size=batch_size,\n",
    "                                        stamp_size=64,\n",
    "                                        pixel_size=0.03,\n",
    "                                        input_nprocs=12,\n",
    "                                        nrepeat=10,\n",
    "                                        cache_dir='/data2/COSMOS/cache64_10_hst')"
   ]
  },
  {
   "cell_type": "code",
   "execution_count": 5,
   "metadata": {},
   "outputs": [],
   "source": [
    "# Build a pixelCNN Estimator\n",
    "from pixel_cnn_pp.model import model_spec"
   ]
  },
  {
   "cell_type": "code",
   "execution_count": 6,
   "metadata": {},
   "outputs": [],
   "source": [
    "def pack_images(images, rows, cols):\n",
    "    \"\"\"Helper utility to make a field of images.\"\"\"\n",
    "    shape = tf.shape(images)\n",
    "    width = shape[-3]\n",
    "    height = shape[-2]\n",
    "    depth = shape[-1]\n",
    "    images = tf.reshape(images, (-1, width, height, depth))\n",
    "    batch = tf.shape(images)[0]\n",
    "    rows = tf.minimum(rows, batch)\n",
    "    cols = tf.minimum(batch // rows, cols)\n",
    "    images = images[:rows * cols]\n",
    "    images = tf.reshape(images, (rows, cols, width, height, depth))\n",
    "    images = tf.transpose(images, [0, 2, 1, 3, 4])\n",
    "    images = tf.reshape(images, [1, rows * width, cols * height, depth])\n",
    "    return images\n",
    "\n",
    "\n",
    "def image_tile_summary(name, tensor, rows=8, cols=8):\n",
    "    tf.summary.image(name, pack_images(tensor, rows, cols), max_outputs=1)"
   ]
  },
  {
   "cell_type": "code",
   "execution_count": 7,
   "metadata": {},
   "outputs": [],
   "source": [
    "n_channels=1\n",
    "image_size=64\n",
    "\n",
    "def pixelcnn_model_fn(features, labels, mode, params, config):\n",
    "    is_training = (mode == tf.estimator.ModeKeys.TRAIN)\n",
    "\n",
    "    # Extract input images\n",
    "    x = features['x']\n",
    "    \n",
    "    model_opt = { 'nr_resnet': 2, 'nr_filters': 64, 'nr_logistic_mix': 1, 'resnet_nonlinearity': 'concat_elu', 'energy_distance': False}\n",
    "    \n",
    "    if mode == tf.estimator.ModeKeys.PREDICT:\n",
    "        # Build the model\n",
    "        def make_model_spec():\n",
    "            input_layer = tf.placeholder(tf.float32, shape=[1,image_size, image_size,1])\n",
    "            model = tf.make_template('model', model_spec)\n",
    "            out = model(input_layer, None, ema=None, dropout_p=0., **model_opt)\n",
    "            loc, scale = tf.split(out, num_or_size_splits=2,axis=-1)\n",
    "            scale = tf.nn.softplus(scale) + 1e-4\n",
    "            distribution = tfp.distributions.Independent( tfp.distributions.Normal(loc=loc, scale=scale))\n",
    "            log_prob = - distribution.log_prob(input_layer)\n",
    "            print(log_prob)\n",
    "            grads = tf.gradients(log_prob[0], input_layer)\n",
    "            samples = distribution.sample()\n",
    "            hub.add_signature(inputs=input_layer,\n",
    "                              outputs=grads[0])#{'grads':grads[0], 'sample':samples,'log_prob':log_prob})\n",
    "        \n",
    "        spec = hub.create_module_spec(make_model_spec, drop_collections=['checkpoints'])\n",
    "        pixelcnn = hub.Module(spec, name=\"pixelcnn_module\")\n",
    "            \n",
    "        hub.register_module_for_export(pixelcnn, \"pixelcnn_gradients\")\n",
    "        predictions =  pixelcnn(x, as_dict=True)\n",
    "        return tf.estimator.EstimatorSpec(mode=mode,\n",
    "                                          predictions=predictions)\n",
    "    \n",
    "    # Build the model\n",
    "    def make_model_spec():\n",
    "        input_layer = tf.placeholder(tf.float32, shape=[batch_size, image_size, image_size, n_channels])\n",
    "        \n",
    "        model = tf.make_template('model', model_spec)\n",
    "        out = model(input_layer, None, ema=None, dropout_p=0.5, **model_opt)\n",
    "        out = tf.layers.dense(out, 2, activation=None) # project the output to only 2 values\n",
    "        loc, scale = tf.split(out, num_or_size_splits=2,axis=-1)\n",
    "        scale = tf.nn.softplus(scale) + 1e-4\n",
    "        print(loc, scale)\n",
    "        # Build Gaussian model for output value\n",
    "        distribution = tfp.distributions.Independent( tfp.distributions.Normal(loc=loc, scale=scale))\n",
    "        sample = distribution.sample()\n",
    "        log_prob = distribution.log_prob(input_layer)\n",
    "        hub.add_signature(inputs=input_layer,\n",
    "                          outputs={'sample': sample, 'log_prob': log_prob})\n",
    "\n",
    "    spec = hub.create_module_spec(make_model_spec, drop_collections=['checkpoints'])\n",
    "    pixelcnn = hub.Module(spec, name=\"pixelcnn_module\", trainable=True)\n",
    "\n",
    "    output = pixelcnn(x, as_dict=True)\n",
    "\n",
    "    loglikelihood = output['log_prob']\n",
    "    sample = output['sample']\n",
    "    print(loglikelihood)\n",
    "    print(sample)\n",
    "    tf.summary.scalar('loglikelihood', tf.reduce_mean(loglikelihood))\n",
    "\n",
    "    image_tile_summary(\"image\", tf.to_float(x[:16]), rows=4, cols=4)\n",
    "    image_tile_summary(\"recon\", tf.to_float(sample[:16]), rows=4, cols=4)\n",
    "\n",
    "    loss = -tf.reduce_mean(loglikelihood)\n",
    "\n",
    "    # Training of the model\n",
    "    global_step = tf.train.get_or_create_global_step()\n",
    "    learning_rate = tf.train.cosine_decay(params[\"learning_rate\"], global_step,\n",
    "                                          params[\"max_steps\"])\n",
    "    tf.summary.scalar(\"learning_rate\", learning_rate)\n",
    "    optimizer = tf.train.AdamOptimizer(learning_rate)\n",
    "\n",
    "    update_ops = tf.get_collection(tf.GraphKeys.UPDATE_OPS)\n",
    "    with tf.control_dependencies(update_ops):\n",
    "        train_op = optimizer.minimize(loss , global_step=global_step)\n",
    "\n",
    "    eval_metric_ops = {\"loglikelihood\": tf.metrics.mean(tf.reduce_mean(loglikelihood))}\n",
    "\n",
    "    return tf.estimator.EstimatorSpec(mode=mode,\n",
    "                                      loss=loss,\n",
    "                                      train_op=train_op,\n",
    "                                      eval_metric_ops=eval_metric_ops)"
   ]
  },
  {
   "cell_type": "code",
   "execution_count": 8,
   "metadata": {},
   "outputs": [],
   "source": [
    "params={'learning_rate':0.0002, 'max_steps':200000}"
   ]
  },
  {
   "cell_type": "code",
   "execution_count": 9,
   "metadata": {},
   "outputs": [
    {
     "name": "stdout",
     "output_type": "stream",
     "text": [
      "INFO:tensorflow:Using default config.\n",
      "INFO:tensorflow:Using config: {'_model_dir': '/data2/cosmos_pixel_cnn_hst', '_tf_random_seed': None, '_save_summary_steps': 100, '_save_checkpoints_steps': None, '_save_checkpoints_secs': 600, '_session_config': allow_soft_placement: true\n",
      "graph_options {\n",
      "  rewrite_options {\n",
      "    meta_optimizer_iterations: ONE\n",
      "  }\n",
      "}\n",
      ", '_keep_checkpoint_max': 5, '_keep_checkpoint_every_n_hours': 10000, '_log_step_count_steps': 100, '_train_distribute': None, '_device_fn': None, '_protocol': None, '_eval_distribute': None, '_experimental_distribute': None, '_service': None, '_cluster_spec': <tensorflow.python.training.server_lib.ClusterSpec object at 0x7fe366d50320>, '_task_type': 'worker', '_task_id': 0, '_global_id_in_cluster': 0, '_master': '', '_evaluation_master': '', '_is_chief': True, '_num_ps_replicas': 0, '_num_worker_replicas': 1}\n"
     ]
    }
   ],
   "source": [
    "mymodel = tf.estimator.Estimator(model_fn=pixelcnn_model_fn,\n",
    "                                params=params, model_dir='/data2/cosmos_pixel_cnn_hst')"
   ]
  },
  {
   "cell_type": "code",
   "execution_count": null,
   "metadata": {},
   "outputs": [
    {
     "name": "stdout",
     "output_type": "stream",
     "text": [
      "WARNING:tensorflow:From /usr/lib/python3.7/site-packages/tensorflow/python/framework/op_def_library.py:263: colocate_with (from tensorflow.python.framework.ops) is deprecated and will be removed in a future version.\n",
      "Instructions for updating:\n",
      "Colocations handled automatically by placer.\n",
      "WARNING:tensorflow:From /home/francois/repo/scarlet-pixelcnn/data/galsim.py:134: py_func (from tensorflow.python.ops.script_ops) is deprecated and will be removed in a future version.\n",
      "Instructions for updating:\n",
      "tf.py_func is deprecated in TF V2. Instead, use\n",
      "    tf.py_function, which takes a python function which manipulates tf eager\n",
      "    tensors instead of numpy arrays. It's easy to convert a tf eager tensor to\n",
      "    an ndarray (just call tensor.numpy()) but having access to eager tensors\n",
      "    means `tf.py_function`s can use accelerators such as GPUs as well as\n",
      "    being differentiable using a gradient tape.\n",
      "    \n",
      "INFO:tensorflow:Calling model_fn.\n",
      "WARNING:tensorflow:From pixel-cnn/pixel_cnn_pp/nn.py:282: calling dropout (from tensorflow.python.ops.nn_ops) with keep_prob is deprecated and will be removed in a future version.\n",
      "Instructions for updating:\n",
      "Please use `rate` instead of `keep_prob`. Rate should be set to `rate = 1 - keep_prob`.\n"
     ]
    },
    {
     "name": "stderr",
     "output_type": "stream",
     "text": [
      "/usr/lib/python3.7/site-packages/numpy/lib/type_check.py:546: DeprecationWarning: np.asscalar(a) is deprecated since NumPy v1.16, use a.item() instead\n",
      "  'a.item() instead', DeprecationWarning, stacklevel=1)\n",
      "/usr/lib/python3.7/site-packages/numpy/lib/type_check.py:546: DeprecationWarning: np.asscalar(a) is deprecated since NumPy v1.16, use a.item() instead\n",
      "  'a.item() instead', DeprecationWarning, stacklevel=1)\n"
     ]
    },
    {
     "name": "stdout",
     "output_type": "stream",
     "text": [
      "WARNING:tensorflow:From <ipython-input-7-5316f04f4cbf>:42: dense (from tensorflow.python.layers.core) is deprecated and will be removed in a future version.\n",
      "Instructions for updating:\n",
      "Use keras.layers.dense instead.\n",
      "Tensor(\"split:0\", shape=(32, 64, 64, 1), dtype=float32) Tensor(\"add:0\", shape=(32, 64, 64, 1), dtype=float32)\n",
      "WARNING:tensorflow:From /home/francois/.local/lib/python3.7/site-packages/tensorflow_hub/saved_model_lib.py:109: build_tensor_info (from tensorflow.python.saved_model.utils_impl) is deprecated and will be removed in a future version.\n",
      "Instructions for updating:\n",
      "This function will only be available through the v1 compatibility library as tf.compat.v1.saved_model.utils.build_tensor_info or tf.compat.v1.saved_model.build_tensor_info.\n",
      "INFO:tensorflow:Saver not created because there are no variables in the graph to restore\n",
      "Tensor(\"pixelcnn_module_apply_default/IndependentNormal/log_prob/Sum:0\", shape=(32,), dtype=float32)\n",
      "Tensor(\"pixelcnn_module_apply_default/IndependentNormal/sample/Reshape:0\", shape=(32, 64, 64, 1), dtype=float32)\n",
      "WARNING:tensorflow:From <ipython-input-7-5316f04f4cbf>:64: to_float (from tensorflow.python.ops.math_ops) is deprecated and will be removed in a future version.\n",
      "Instructions for updating:\n",
      "Use tf.cast instead.\n",
      "WARNING:tensorflow:From /usr/lib/python3.7/site-packages/tensorflow/python/ops/math_ops.py:3066: to_int32 (from tensorflow.python.ops.math_ops) is deprecated and will be removed in a future version.\n",
      "Instructions for updating:\n",
      "Use tf.cast instead.\n",
      "INFO:tensorflow:Done calling model_fn.\n",
      "INFO:tensorflow:Create CheckpointSaverHook.\n",
      "INFO:tensorflow:Graph was finalized.\n",
      "INFO:tensorflow:Running local_init_op.\n",
      "INFO:tensorflow:Done running local_init_op.\n",
      "INFO:tensorflow:Saving checkpoints for 0 into /data2/cosmos_pixel_cnn_hst/model.ckpt.\n"
     ]
    }
   ],
   "source": [
    "mymodel.train(input_fn, steps=100000)"
   ]
  },
  {
   "cell_type": "code",
   "execution_count": null,
   "metadata": {},
   "outputs": [],
   "source": []
  },
  {
   "cell_type": "code",
   "execution_count": null,
   "metadata": {},
   "outputs": [],
   "source": [
    "# Code to export the trained model:\n",
    "exporter = hub.LatestModuleExporter(\"tf_hub\",\n",
    "        tf.estimator.export.build_raw_serving_input_receiver_fn(input_fn()[0]))\n",
    "\n",
    "exporter.export(mymodel, '/data2/cosmos_pixel_cnn_hst/', mymodel.latest_checkpoint())"
   ]
  }
 ],
 "metadata": {
  "kernelspec": {
   "display_name": "Python 3",
   "language": "python",
   "name": "python3"
  },
  "language_info": {
   "codemirror_mode": {
    "name": "ipython",
    "version": 3
   },
   "file_extension": ".py",
   "mimetype": "text/x-python",
   "name": "python",
   "nbconvert_exporter": "python",
   "pygments_lexer": "ipython3",
   "version": "3.7.2"
  }
 },
 "nbformat": 4,
 "nbformat_minor": 2
}
