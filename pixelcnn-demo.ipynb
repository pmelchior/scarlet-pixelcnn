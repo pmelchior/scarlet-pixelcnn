{
 "cells": [
  {
   "cell_type": "code",
   "execution_count": null,
   "metadata": {
    "collapsed": false,
    "deletable": true,
    "editable": true
   },
   "outputs": [],
   "source": [
    "import numpy as np\n",
    "import scarlet\n",
    "import logging\n",
    "import tensorflow_hub as hub\n",
    "import tensorflow as tf\n",
    "logger = logging.getLogger('scarlet')\n",
    "logger.setLevel(logging.DEBUG)"
   ]
  },
  {
   "cell_type": "code",
   "execution_count": 2,
   "metadata": {
    "collapsed": true,
    "deletable": true,
    "editable": true
   },
   "outputs": [],
   "source": [
    "import proxmin\n",
    "import proxmin.operators"
   ]
  },
  {
   "cell_type": "code",
   "execution_count": 31,
   "metadata": {
    "collapsed": false,
    "deletable": true,
    "editable": true
   },
   "outputs": [],
   "source": [
    "class PixelCNNConstraint(scarlet.Constraint):\n",
    "    \n",
    "    def __init__(self, module, session):\n",
    "        self.x = tf.placeholder(shape=(1,64,64,1), dtype=tf.float32)\n",
    "        self.pixelcnn = module(self.x)\n",
    "        self.session = session\n",
    "\n",
    "    def prox_pixelcnn(self, X, step):\n",
    "        print(X.shape)\n",
    "        print(X)\n",
    "        # all images in pixelcnn are normalized to unit flux\n",
    "        X /= X.sum()\n",
    "        grad = self.session.run(self.pixelcnn, feed_dict={self.x: X.reshape((1,64,64,1))})\n",
    "        print(grad)\n",
    "        res = X + step*grad[0,:,:,0]\n",
    "        return res\n",
    "\n",
    "    def prox_sed(self, shape):\n",
    "        return proxmin.operators.prox_plus\n",
    "\n",
    "    def prox_morph(self, shape):\n",
    "        return self.prox_pixelcnn"
   ]
  },
  {
   "cell_type": "code",
   "execution_count": 4,
   "metadata": {
    "collapsed": false,
    "deletable": true,
    "editable": true
   },
   "outputs": [],
   "source": [
    "module_path='modules/pixelcnn_gradients'\n",
    "pixelcnn = hub.Module(module_path)\n",
    "sess= tf.Session()\n",
    "sess.run(tf.global_variables_initializer())\n",
    "x = tf.placeholder(shape=(1,64,64,1), dtype=tf.float32)"
   ]
  },
  {
   "cell_type": "code",
   "execution_count": 5,
   "metadata": {
    "collapsed": false,
    "deletable": true,
    "editable": true
   },
   "outputs": [
    {
     "name": "stdout",
     "output_type": "stream",
     "text": [
      "Populating the interactive namespace from numpy and matplotlib\n"
     ]
    }
   ],
   "source": [
    "# quick test of the gradient module\n",
    "%pylab inline\n",
    "im = 0.01*randn(1,64,64,1)\n",
    "im0 = im+0\n",
    "grads = pixelcnn(x)"
   ]
  },
  {
   "cell_type": "code",
   "execution_count": null,
   "metadata": {
    "collapsed": false,
    "deletable": true,
    "editable": true
   },
   "outputs": [],
   "source": [
    "for i in range(1000):\n",
    "    d = sess.run(grads, feed_dict={x: im})\n",
    "    im -= 0.001*d/(64.*64)"
   ]
  },
  {
   "cell_type": "code",
   "execution_count": null,
   "metadata": {
    "collapsed": false,
    "deletable": true,
    "editable": true,
    "scrolled": true
   },
   "outputs": [],
   "source": [
    "# It reproduces more or less the noise correlation learned from training\n",
    "subplot(121)\n",
    "imshow(im0[0,:,:,0])\n",
    "subplot(122)\n",
    "imshow(im[0,:,:,0])"
   ]
  },
  {
   "cell_type": "code",
   "execution_count": 7,
   "metadata": {
    "collapsed": false,
    "deletable": true,
    "editable": true
   },
   "outputs": [],
   "source": [
    "data = np.load(\"../scarlet/data/test_sim/data.npz\")\n",
    "img = data[\"images\"]\n",
    "filters = data[\"filters\"]\n",
    "\n",
    "# open file and perform detection\n",
    "B = len(img)\n",
    "\n",
    "from astropy.table import Table as ApTable\n",
    "catalog = ApTable.read(\"../scarlet/data/test_sim/true_catalog.fits\")\n",
    "bg_rms = np.array([1e-3]*len(img))"
   ]
  },
  {
   "cell_type": "code",
   "execution_count": 32,
   "metadata": {
    "collapsed": false
   },
   "outputs": [],
   "source": [
    "# run scarlet\n",
    "config = scarlet.Config(source_sizes=[64], accelerated=True)\n",
    "sources = [scarlet.PointSource((obj['y'],obj['x']), img, shape=(64,64), normalization=scarlet.Normalization.S, config=config, constraints=PixelCNNConstraint(pixelcnn, sess)) for obj in catalog]\n",
    "blend = scarlet.Blend(sources).set_data(img, config=config)"
   ]
  },
  {
   "cell_type": "code",
   "execution_count": null,
   "metadata": {
    "collapsed": false,
    "deletable": true,
    "editable": true
   },
   "outputs": [],
   "source": [
    "plt.figure()\n",
    "plt.imshow(sources[0][0].morph)\n",
    "plt.show()"
   ]
  },
  {
   "cell_type": "code",
   "execution_count": null,
   "metadata": {
    "collapsed": false
   },
   "outputs": [],
   "source": [
    "len(sources)"
   ]
  },
  {
   "cell_type": "code",
   "execution_count": null,
   "metadata": {
    "collapsed": false
   },
   "outputs": [],
   "source": [
    "sources[0][0].morph.shape"
   ]
  },
  {
   "cell_type": "code",
   "execution_count": null,
   "metadata": {
    "collapsed": false
   },
   "outputs": [],
   "source": [
    "blend.fit(100, e_rel=1e-4)"
   ]
  },
  {
   "cell_type": "code",
   "execution_count": null,
   "metadata": {
    "collapsed": true
   },
   "outputs": [],
   "source": []
  }
 ],
 "metadata": {
  "kernelspec": {
   "display_name": "Python 3",
   "language": "python",
   "name": "python3"
  },
  "language_info": {
   "codemirror_mode": {
    "name": "ipython",
    "version": 3
   },
   "file_extension": ".py",
   "mimetype": "text/x-python",
   "name": "python",
   "nbconvert_exporter": "python",
   "pygments_lexer": "ipython3",
   "version": "3.5.2"
  }
 },
 "nbformat": 4,
 "nbformat_minor": 2
}
